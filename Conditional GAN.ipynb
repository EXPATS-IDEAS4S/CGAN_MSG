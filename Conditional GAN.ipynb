{
 "cells": [
  {
   "cell_type": "markdown",
   "metadata": {},
   "source": [
    "# Conditional GAN"
   ]
  },
  {
   "cell_type": "code",
   "execution_count": 1,
   "metadata": {},
   "outputs": [],
   "source": [
    "# supress warnings\n",
    "import warnings \n",
    "warnings.filterwarnings('ignore')"
   ]
  },
  {
   "cell_type": "code",
   "execution_count": 2,
   "metadata": {},
   "outputs": [
    {
     "name": "stderr",
     "output_type": "stream",
     "text": [
      "Using TensorFlow backend.\n"
     ]
    },
    {
     "data": {
      "text/plain": [
       "(60000, 28, 28)"
      ]
     },
     "execution_count": 2,
     "metadata": {},
     "output_type": "execute_result"
    }
   ],
   "source": [
    "# import dataset \n",
    "from keras.datasets import mnist\n",
    "\n",
    "(X_train,y_train),(X_test,y_test) = mnist.load_data()\n",
    "X_train.shape"
   ]
  },
  {
   "cell_type": "code",
   "execution_count": 3,
   "metadata": {},
   "outputs": [],
   "source": [
    "img_width, img_height =28,28\n",
    "img_channel = 1\n",
    "img_shape = (img_width, img_height, img_channel)\n",
    "num_classes = 10\n",
    "z_dim = 100"
   ]
  },
  {
   "cell_type": "markdown",
   "metadata": {},
   "source": [
    "# Build Generator"
   ]
  },
  {
   "cell_type": "code",
   "execution_count": 4,
   "metadata": {},
   "outputs": [
    {
     "name": "stdout",
     "output_type": "stream",
     "text": [
      "__________________________________________________________________________________________________\n",
      "Layer (type)                    Output Shape         Param #     Connected to                     \n",
      "==================================================================================================\n",
      "input_2 (InputLayer)            (None, 1)            0                                            \n",
      "__________________________________________________________________________________________________\n",
      "embedding_1 (Embedding)         (None, 1, 100)       1000        input_2[0][0]                    \n",
      "__________________________________________________________________________________________________\n",
      "input_1 (InputLayer)            (None, 100)          0                                            \n",
      "__________________________________________________________________________________________________\n",
      "flatten_1 (Flatten)             (None, 100)          0           embedding_1[0][0]                \n",
      "__________________________________________________________________________________________________\n",
      "multiply_1 (Multiply)           (None, 100)          0           input_1[0][0]                    \n",
      "                                                                 flatten_1[0][0]                  \n",
      "__________________________________________________________________________________________________\n",
      "sequential_1 (Sequential)       (None, 28, 28, 1)    856193      multiply_1[0][0]                 \n",
      "==================================================================================================\n",
      "Total params: 857,193\n",
      "Trainable params: 856,809\n",
      "Non-trainable params: 384\n",
      "__________________________________________________________________________________________________\n"
     ]
    }
   ],
   "source": [
    "from keras.layers import UpSampling2D, Reshape, Activation, Conv2D, BatchNormalization, LeakyReLU, Input, Flatten, multiply\n",
    "from keras.layers import Dense, Embedding\n",
    "from keras.models import Sequential, Model\n",
    "\n",
    "def build_generator():\n",
    "    model = Sequential()\n",
    "    model.add(Dense(128*7*7, activation = 'relu', input_shape = (z_dim, )))\n",
    "    model.add(Reshape((7,7,128)))\n",
    "    model.add(UpSampling2D())\n",
    "    model.add(Conv2D(128, kernel_size = 3, padding = 'same'))\n",
    "    model.add(BatchNormalization())\n",
    "    model.add(LeakyReLU(alpha = 0.02))\n",
    "    model.add(UpSampling2D())\n",
    "    model.add(Conv2D(64, kernel_size = 3, padding = 'same'))\n",
    "    model.add(BatchNormalization())\n",
    "    model.add(LeakyReLU(alpha = 0.02))\n",
    "    model.add(Conv2D(1, kernel_size = 3 , padding='same'))\n",
    "    model.add(Activation('tanh'))\n",
    "    \n",
    "    z = Input(shape= (z_dim,))\n",
    "    label = Input(shape=(1,), dtype = 'int32')\n",
    "    \n",
    "    label_embedding = Embedding(num_classes, z_dim, input_length = 1)(label)\n",
    "    label_embedding = Flatten()(label_embedding)\n",
    "    joined = multiply([z, label_embedding])\n",
    "    \n",
    "    img = model(joined)\n",
    "    return Model([z, label], img)\n",
    "\n",
    "generator = build_generator()\n",
    "generator.summary()"
   ]
  },
  {
   "cell_type": "markdown",
   "metadata": {},
   "source": [
    "# Build Discriminator"
   ]
  },
  {
   "cell_type": "code",
   "execution_count": 7,
   "metadata": {},
   "outputs": [
    {
     "name": "stdout",
     "output_type": "stream",
     "text": [
      "__________________________________________________________________________________________________\n",
      "Layer (type)                    Output Shape         Param #     Connected to                     \n",
      "==================================================================================================\n",
      "input_4 (InputLayer)            (None, 1)            0                                            \n",
      "__________________________________________________________________________________________________\n",
      "embedding_2 (Embedding)         (None, 1, 784)       7840        input_4[0][0]                    \n",
      "__________________________________________________________________________________________________\n",
      "flatten_3 (Flatten)             (None, 784)          0           embedding_2[0][0]                \n",
      "__________________________________________________________________________________________________\n",
      "input_3 (InputLayer)            (None, 28, 28, 1)    0                                            \n",
      "__________________________________________________________________________________________________\n",
      "reshape_2 (Reshape)             (None, 28, 28, 1)    0           flatten_3[0][0]                  \n",
      "__________________________________________________________________________________________________\n",
      "concatenate_1 (Concatenate)     (None, 28, 28, 2)    0           input_3[0][0]                    \n",
      "                                                                 reshape_2[0][0]                  \n",
      "__________________________________________________________________________________________________\n",
      "sequential_2 (Sequential)       (None, 1)            390945      concatenate_1[0][0]              \n",
      "==================================================================================================\n",
      "Total params: 398,785\n",
      "Trainable params: 397,889\n",
      "Non-trainable params: 896\n",
      "__________________________________________________________________________________________________\n"
     ]
    }
   ],
   "source": [
    "from keras.layers import Dropout, Concatenate\n",
    "import numpy as np\n",
    "\n",
    "def build_discriminator():\n",
    "    model = Sequential()\n",
    "    model.add(Conv2D(32, kernel_size = 3, strides = 2, input_shape = (28,28,2), padding = 'same'))\n",
    "    model.add(LeakyReLU(alpha = 0.02))\n",
    "    model.add(Dropout(0.25))\n",
    "    model.add(Conv2D(64, kernel_size = 3, strides = 2, input_shape = (28,28,2), padding = 'same'))\n",
    "    model.add(BatchNormalization())\n",
    "    model.add(LeakyReLU(alpha = 0.02))\n",
    "    model.add(Dropout(0.25))\n",
    "    model.add(Conv2D(128, kernel_size = 3, strides = 2, input_shape = (28,28,2), padding = 'same'))\n",
    "    model.add(BatchNormalization())\n",
    "    model.add(LeakyReLU(alpha = 0.02))\n",
    "    model.add(Dropout(0.25))\n",
    "    model.add(Conv2D(256, kernel_size = 3, strides = 2, input_shape = (28,28,2), padding = 'same'))\n",
    "    model.add(BatchNormalization())\n",
    "    model.add(LeakyReLU(alpha = 0.02))\n",
    "    model.add(Dropout(0.25))\n",
    "    model.add(Flatten())\n",
    "    model.add(Dense(1, activation = 'sigmoid'))\n",
    "    \n",
    "    img = Input(shape= (img_shape))\n",
    "    label = Input(shape= (1,), dtype = 'int32')\n",
    "    \n",
    "    label_embedding = Embedding(input_dim = num_classes, output_dim = np.prod(img_shape), input_length = 1)(label)\n",
    "    label_embedding = Flatten()(label_embedding)\n",
    "    label_embedding = Reshape(img_shape)(label_embedding)\n",
    "    \n",
    "    concat = Concatenate(axis = -1)([img, label_embedding])\n",
    "    prediction = model(concat)\n",
    "    return Model([img, label], prediction)\n",
    "\n",
    "discriminator = build_discriminator()\n",
    "discriminator.summary()"
   ]
  },
  {
   "cell_type": "markdown",
   "metadata": {},
   "source": [
    "# Compile and Join Model G/D"
   ]
  },
  {
   "cell_type": "code",
   "execution_count": 9,
   "metadata": {},
   "outputs": [],
   "source": [
    "from keras.optimizers import Adam\n",
    "\n",
    "discriminator.compile(loss = 'binary_crossentropy', optimizer = Adam(0.0002, 0.5), metrics = ['accuracy'])\n",
    "\n",
    "z = Input(shape=(z_dim,))\n",
    "label = Input(shape= (1,))\n",
    "img = generator([z,label])\n",
    "\n",
    "discriminator.trainable = False\n",
    "prediction = discriminator([img, label])\n",
    "\n",
    "cgan = Model([z, label], prediction)\n",
    "cgan.compile(loss= 'binary_crossentropy', optimizer = Adam(0.0002,0.5))"
   ]
  },
  {
   "cell_type": "markdown",
   "metadata": {},
   "source": [
    "# Build  a function for training G/D"
   ]
  },
  {
   "cell_type": "code",
   "execution_count": 13,
   "metadata": {},
   "outputs": [],
   "source": [
    "def train(epochs, batch_size, save_interval):\n",
    "    (X_train,y_train),(X_test, y_test) = mnist.load_data()\n",
    "    X_train = X_train/127.5 - 1\n",
    "    X_train = np.expand_dims(X_train, axis=3)\n",
    "    \n",
    "    real = np.ones(shape= (batch_size, 1))\n",
    "    fake = np.zeros(shape = (batch_size,1))\n",
    "    \n",
    "    for epoch in range(epochs):\n",
    "        idx = np.random.randint(0, X_train.shape[0], batch_size)\n",
    "        img, labels = X_train[idx], y_train[idx]\n",
    "        \n",
    "        z = np.random.normal(0,1,size = (batch_size, z_dim))\n",
    "        gen_img = generator.predict([z,labels])\n",
    "        \n",
    "        d_loss_real = discriminator.train_on_batch([img, labels], real)\n",
    "        d_loss_fake = discriminator.train_on_batch([gen_img, labels], fake)\n",
    "        d_loss = 0.5 * np.add(d_loss_real, d_loss_fake)\n",
    "        \n",
    "        z = np.random.randint(0,1, size = (batch_size, z_dim))\n",
    "        labels = np.random.randint(0, num_classes, batch_size).reshape(-1,1)\n",
    "        \n",
    "        g_loss = cgan.train_on_batch([z,labels], real)\n",
    "        \n",
    "        if epoch % save_interval == 0:\n",
    "            print('{} [D_loss: {} , accuracy: {:.2f}] [G_loss: {}]'.format(epoch, d_loss[0], 100*d_loss[1], g_loss))\n",
    "            save_image(epoch)"
   ]
  },
  {
   "cell_type": "code",
   "execution_count": 14,
   "metadata": {},
   "outputs": [],
   "source": [
    "import matplotlib.pyplot as plt\n",
    "def save_image(epoch):\n",
    "    r, c = 2,5\n",
    "    z = np.random.normal(0,1,(r*c, z_dim))\n",
    "    labels = np.arange(0,10).reshape(-1,1)\n",
    "    gen_image = generator.predict([z,labels])\n",
    "    gen_image = 0.5 * gen_image + 0.5\n",
    "    \n",
    "    fig, axes = plt.subplots(r,c, figsize = (10,10))\n",
    "    count = 0\n",
    "    for i in range(r):\n",
    "        for j in range(c):\n",
    "            axes[i,j].imshow(gen_image[count,:,:,0],cmap = 'gray')\n",
    "            axes[i,j].axis('off')\n",
    "            axes[i,j].set_title(\"Digit: %d\" % labels[count])\n",
    "            count+=1\n",
    "    plt.savefig('images/cgan_%d.jpg' % epoch)\n",
    "    plt.close()"
   ]
  },
  {
   "cell_type": "code",
   "execution_count": null,
   "metadata": {},
   "outputs": [
    {
     "name": "stdout",
     "output_type": "stream",
     "text": [
      "0 [D_loss: 1.4379487037658691 , accuracy: 48.05] [G_loss: 0.2636014223098755]\n",
      "1000 [D_loss: 0.0002288183750351891 , accuracy: 100.00] [G_loss: 0.0005109526682645082]\n"
     ]
    }
   ],
   "source": [
    "# train network\n",
    "train(50000, 128, 1000)"
   ]
  },
  {
   "cell_type": "code",
   "execution_count": null,
   "metadata": {},
   "outputs": [],
   "source": []
  },
  {
   "cell_type": "code",
   "execution_count": null,
   "metadata": {},
   "outputs": [],
   "source": []
  }
 ],
 "metadata": {
  "kernelspec": {
   "display_name": "Python 3",
   "language": "python",
   "name": "python3"
  },
  "language_info": {
   "codemirror_mode": {
    "name": "ipython",
    "version": 3
   },
   "file_extension": ".py",
   "mimetype": "text/x-python",
   "name": "python",
   "nbconvert_exporter": "python",
   "pygments_lexer": "ipython3",
   "version": "3.6.2"
  }
 },
 "nbformat": 4,
 "nbformat_minor": 4
}
